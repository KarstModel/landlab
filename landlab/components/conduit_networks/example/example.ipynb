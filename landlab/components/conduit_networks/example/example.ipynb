{
 "cells": [
  {
   "cell_type": "code",
   "execution_count": 1,
   "metadata": {},
   "outputs": [],
   "source": [
    "from landlab import RasterModelGrid\n",
    "from landlab.plot.imshow import imshow_node_grid\n",
    "from landlab.components import PresFlowNetwork"
   ]
  },
  {
   "cell_type": "code",
   "execution_count": 28,
   "metadata": {},
   "outputs": [
    {
     "name": "stdout",
     "output_type": "stream",
     "text": [
      "Number of links =  3910\n",
      "Number of nodes =  2000\n",
      "Number of active links =  3638\n",
      "Number of core nodes =  1824\n"
     ]
    }
   ],
   "source": [
    "mg = RasterModelGrid((40,50),100)\n",
    "junc_elev = mg.add_zeros('node', 'junction__elevation')\n",
    "#d_h = mg.add_ones('link', 'hydraulic__diameter')\n",
    "d_h = np.random.rand(mg.number_of_links)\n",
    "mg.add_field('link','hydraulic__diameter', d_h)\n",
    "h = mg.add_zeros('node', 'hydraulic__head')\n",
    "#a = mg.add_ones('link', 'head_loss__exponent')\n",
    "#f = mg.add_ones('link', 'friction__factor')\n",
    "#h = np.random.rand(mg.number_of_nodes)\n",
    "Q = mg.add_zeros('link', 'conduit__discharge')\n",
    "#net_node_flux = mg.add_ones('node', 'net_node_flux', noclobber=False)\n",
    "#set boundary node head\n",
    "\n",
    "h[mg.nodes_at_left_edge] = 10.\n",
    "h[mg.nodes_at_right_edge] = 0.\n",
    "h[mg.nodes_at_top_edge] = 0.\n",
    "h[mg.nodes_at_bottom_edge] = 0.\n",
    "mg.set_closed_boundaries_at_grid_edges(False,True,False,True)\n",
    "Q[mg.active_links] = 1.\n",
    "n_core = mg.number_of_core_nodes\n",
    "links = mg.links_at_node\n",
    "print \"Number of links = \", mg.number_of_links\n",
    "print \"Number of nodes = \", mg.number_of_nodes\n",
    "print \"Number of active links = \", mg.number_of_active_links\n",
    "print \"Number of core nodes = \", mg.number_of_core_nodes\n"
   ]
  },
  {
   "cell_type": "code",
   "execution_count": 30,
   "metadata": {},
   "outputs": [],
   "source": [
    "\n",
    "pfn = PresFlowNetwork(mg)\n"
   ]
  },
  {
   "cell_type": "code",
   "execution_count": 31,
   "metadata": {},
   "outputs": [
    {
     "name": "stdout",
     "output_type": "stream",
     "text": [
      "Number of iterations = 1 tolerance = 1.31856056826\n",
      "Number of iterations = 2 tolerance = 0.991368433444\n",
      "Number of iterations = 3 tolerance = 0.961010939516\n",
      "Number of iterations = 4 tolerance = 0.839890818509\n",
      "Number of iterations = 5 tolerance = 0.584899555274\n",
      "Number of iterations = 6 tolerance = 0.365901959134\n",
      "Number of iterations = 7 tolerance = 0.201067907246\n",
      "Number of iterations = 8 tolerance = 0.0993189565599\n",
      "Number of iterations = 9 tolerance = 0.0524008532034\n",
      "Number of iterations = 10 tolerance = 0.0258453055805\n",
      "Number of iterations = 11 tolerance = 0.0160082420644\n",
      "Number of iterations = 12 tolerance = 0.0152106614999\n",
      "Number of iterations = 13 tolerance = 0.0073077178993\n",
      "Number of iterations = 14 tolerance = 0.0035683968743\n",
      "Number of iterations = 15 tolerance = 0.00174075156896\n",
      "Number of iterations = 16 tolerance = 0.000821264231898\n"
     ]
    }
   ],
   "source": [
    "pfn.run_one_step()"
   ]
  },
  {
   "cell_type": "code",
   "execution_count": 5,
   "metadata": {},
   "outputs": [
    {
     "name": "stdout",
     "output_type": "stream",
     "text": [
      "Using matplotlib backend: Qt5Agg\n",
      "Populating the interactive namespace from numpy and matplotlib\n"
     ]
    }
   ],
   "source": [
    "\n",
    "%pylab"
   ]
  },
  {
   "cell_type": "code",
   "execution_count": 32,
   "metadata": {},
   "outputs": [],
   "source": [
    "figure()\n",
    "imshow_node_grid(mg, h)"
   ]
  },
  {
   "cell_type": "code",
   "execution_count": 15,
   "metadata": {},
   "outputs": [
    {
     "data": {
      "text/plain": [
       "array([ 0.32207751,  0.19019706,  0.07606963, ...,  0.40109093,\n",
       "        0.66744314,  0.87026162])"
      ]
     },
     "execution_count": 15,
     "metadata": {},
     "output_type": "execute_result"
    }
   ],
   "source": [
    "d_h"
   ]
  },
  {
   "cell_type": "code",
   "execution_count": 29,
   "metadata": {},
   "outputs": [
    {
     "data": {
      "text/plain": [
       "array([ 0.93756918,  0.11885761,  0.82993199, ...,  0.96214532,\n",
       "        0.09133843,  0.57829353])"
      ]
     },
     "execution_count": 29,
     "metadata": {},
     "output_type": "execute_result"
    }
   ],
   "source": [
    "#figure()\n",
    "mg.at_link['hydraulic__diameter']"
   ]
  },
  {
   "cell_type": "code",
   "execution_count": null,
   "metadata": {
    "collapsed": true
   },
   "outputs": [],
   "source": []
  }
 ],
 "metadata": {
  "kernelspec": {
   "display_name": "Python 2",
   "language": "python",
   "name": "python2"
  },
  "language_info": {
   "codemirror_mode": {
    "name": "ipython",
    "version": 2
   },
   "file_extension": ".py",
   "mimetype": "text/x-python",
   "name": "python",
   "nbconvert_exporter": "python",
   "pygments_lexer": "ipython2",
   "version": "2.7.13"
  }
 },
 "nbformat": 4,
 "nbformat_minor": 2
}
