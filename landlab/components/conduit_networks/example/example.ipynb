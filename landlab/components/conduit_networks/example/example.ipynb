{
 "cells": [
  {
   "cell_type": "code",
   "execution_count": 1,
   "metadata": {
    "collapsed": false
   },
   "outputs": [],
   "source": [
    "from landlab import RasterModelGrid\n",
    "from landlab.plot.imshow import imshow_node_grid\n",
    "from landlab.components import PresFlowNetwork\n",
    "#from pressurized_flow import PresFlowNetwork\n",
    "#import landlab.components"
   ]
  },
  {
   "cell_type": "code",
   "execution_count": 2,
   "metadata": {
    "collapsed": false
   },
   "outputs": [
    {
     "name": "stdout",
     "output_type": "stream",
     "text": [
      "Number of links =  3910\n",
      "Number of nodes =  2000\n",
      "Number of active links =  3638\n",
      "Number of core nodes =  1824\n"
     ]
    }
   ],
   "source": [
    "mg = RasterModelGrid((40,50),100)\n",
    "junc_elev = mg.add_zeros('node', 'junction__elevation')\n",
    "d_h = mg.add_ones('link', 'hydraulic__diameter')\n",
    "h = mg.add_zeros('node', 'hydraulic__head')\n",
    "f = mg.add_ones('link', 'friction__factor')\n",
    "#h = np.random.rand(mg.number_of_nodes)\n",
    "Q = mg.add_zeros('link', 'conduit__discharge')\n",
    "#net_node_flux = mg.add_ones('node', 'net_node_flux', noclobber=False)\n",
    "#set boundary node head\n",
    "\n",
    "h[mg.nodes_at_left_edge] = 10.\n",
    "h[mg.nodes_at_right_edge] = 0.\n",
    "h[mg.nodes_at_top_edge] = 0.\n",
    "h[mg.nodes_at_bottom_edge] = 0.\n",
    "mg.set_closed_boundaries_at_grid_edges(False,True,False,True)\n",
    "Q[mg.active_links] = 1.\n",
    "n_core = mg.number_of_core_nodes\n",
    "links = mg.links_at_node\n",
    "print \"Number of links = \", mg.number_of_links\n",
    "print \"Number of nodes = \", mg.number_of_nodes\n",
    "print \"Number of active links = \", mg.number_of_active_links\n",
    "print \"Number of core nodes = \", mg.number_of_core_nodes\n"
   ]
  },
  {
   "cell_type": "code",
   "execution_count": 3,
   "metadata": {
    "collapsed": false
   },
   "outputs": [],
   "source": [
    "\n",
    "pfn = PresFlowNetwork(mg)\n"
   ]
  },
  {
   "cell_type": "code",
   "execution_count": 4,
   "metadata": {
    "collapsed": false
   },
   "outputs": [
    {
     "name": "stdout",
     "output_type": "stream",
     "text": [
      "Number of iterations = 1 tolerance = 1.46420918242\n",
      "Number of iterations = 2 tolerance = 0.549172446635\n",
      "Number of iterations = 3 tolerance = 0.194243666714\n",
      "Number of iterations = 4 tolerance = 0.0486788065998\n",
      "Number of iterations = 5 tolerance = 0.0136260152458\n",
      "Number of iterations = 6 tolerance = 0.00449772672093\n",
      "Number of iterations = 7 tolerance = 0.00160853948538\n",
      "Number of iterations = 8 tolerance = 0.000541710750203\n"
     ]
    }
   ],
   "source": [
    "pfn.run_one_step()"
   ]
  },
  {
   "cell_type": "code",
   "execution_count": 5,
   "metadata": {
    "collapsed": false
   },
   "outputs": [
    {
     "name": "stdout",
     "output_type": "stream",
     "text": [
      "Using matplotlib backend: Qt5Agg\n",
      "Populating the interactive namespace from numpy and matplotlib\n"
     ]
    },
    {
     "name": "stderr",
     "output_type": "stream",
     "text": [
      "/home/mcoving/anaconda2/lib/python2.7/site-packages/IPython/core/magics/pylab.py:161: UserWarning: pylab import has clobbered these variables: ['f']\n",
      "`%matplotlib` prevents importing * from pylab and numpy\n",
      "  \"\\n`%matplotlib` prevents importing * from pylab and numpy\"\n"
     ]
    }
   ],
   "source": [
    "\n",
    "%pylab"
   ]
  },
  {
   "cell_type": "code",
   "execution_count": 6,
   "metadata": {
    "collapsed": false
   },
   "outputs": [],
   "source": [
    "figure()\n",
    "imshow_node_grid(mg, h)"
   ]
  },
  {
   "cell_type": "code",
   "execution_count": null,
   "metadata": {
    "collapsed": true
   },
   "outputs": [],
   "source": []
  }
 ],
 "metadata": {
  "kernelspec": {
   "display_name": "Python 2",
   "language": "python",
   "name": "python2"
  },
  "language_info": {
   "codemirror_mode": {
    "name": "ipython",
    "version": 2
   },
   "file_extension": ".py",
   "mimetype": "text/x-python",
   "name": "python",
   "nbconvert_exporter": "python",
   "pygments_lexer": "ipython2",
   "version": "2.7.13"
  }
 },
 "nbformat": 4,
 "nbformat_minor": 2
}
