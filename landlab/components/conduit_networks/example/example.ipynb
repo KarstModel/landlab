{
 "cells": [
  {
   "cell_type": "code",
   "execution_count": 1,
   "metadata": {},
   "outputs": [],
   "source": [
    "from landlab import RasterModelGrid\n",
    "from landlab.plot.imshow import imshow_node_grid\n",
    "from landlab.components import PresFlowNetwork, MeltCreep\n",
    "import numpy as np"
   ]
  },
  {
   "cell_type": "code",
   "execution_count": 2,
   "metadata": {},
   "outputs": [
    {
     "data": {
      "text/plain": [
       "u'/home/mcoving/github/landlab/landlab/components/conduit_networks/example'"
      ]
     },
     "execution_count": 2,
     "metadata": {},
     "output_type": "execute_result"
    }
   ],
   "source": [
    "pwd()"
   ]
  },
  {
   "cell_type": "code",
   "execution_count": 37,
   "metadata": {},
   "outputs": [
    {
     "name": "stdout",
     "output_type": "stream",
     "text": [
      "Number of links =  3910\n",
      "Number of nodes =  2000\n",
      "Number of active links =  3638\n",
      "Number of core nodes =  1824\n"
     ]
    }
   ],
   "source": [
    "mg = RasterModelGrid((40,50),100)\n",
    "junc_elev = mg.add_zeros('node', 'junction__elevation')\n",
    "#d_h = mg.add_ones('link', 'hydraulic__diameter')\n",
    "d_h = np.random.rand(mg.number_of_links)\n",
    "mg.add_field('link','hydraulic__diameter', d_h)\n",
    "h = mg.add_zeros('node', 'hydraulic__head')\n",
    "thickness = 500.*np.ones(mg.number_of_nodes)\n",
    "Z = mg.add_field('node', 'ice__thickness', thickness)\n",
    "#a = mg.add_ones('link', 'head_loss__exponent')\n",
    "#f = mg.add_ones('link', 'friction__factor')\n",
    "#h = np.random.rand(mg.number_of_nodes)\n",
    "Q = mg.add_zeros('link', 'conduit__discharge')\n",
    "#net_node_flux = mg.add_ones('node', 'net_node_flux', noclobber=False)\n",
    "#set boundary node head\n",
    "\n",
    "h[mg.nodes_at_left_edge] = 400.\n",
    "h[mg.nodes_at_right_edge] = 300.\n",
    "h[mg.nodes_at_top_edge] = 0.\n",
    "h[mg.nodes_at_bottom_edge] = 0.\n",
    "mg.set_closed_boundaries_at_grid_edges(False,True,False,True)\n",
    "Q[mg.active_links] = 1.\n",
    "n_core = mg.number_of_core_nodes\n",
    "links = mg.links_at_node\n",
    "print \"Number of links = \", mg.number_of_links\n",
    "print \"Number of nodes = \", mg.number_of_nodes\n",
    "print \"Number of active links = \", mg.number_of_active_links\n",
    "print \"Number of core nodes = \", mg.number_of_core_nodes\n"
   ]
  },
  {
   "cell_type": "code",
   "execution_count": 38,
   "metadata": {},
   "outputs": [],
   "source": [
    "\n",
    "pfn = PresFlowNetwork(mg)\n"
   ]
  },
  {
   "cell_type": "code",
   "execution_count": 39,
   "metadata": {},
   "outputs": [
    {
     "name": "stdout",
     "output_type": "stream",
     "text": [
      "Number of iterations = 1 tolerance = 1.28607564541\n",
      "Number of iterations = 2 tolerance = 0.898483034208\n",
      "Number of iterations = 3 tolerance = 0.674241010494\n",
      "Number of iterations = 4 tolerance = 0.4240247216\n",
      "Number of iterations = 5 tolerance = 0.23943412438\n",
      "Number of iterations = 6 tolerance = 0.137171233481\n",
      "Number of iterations = 7 tolerance = 0.0776048861004\n",
      "Number of iterations = 8 tolerance = 0.0441898412133\n",
      "Number of iterations = 9 tolerance = 0.0216498570859\n",
      "Number of iterations = 10 tolerance = 0.0108681837015\n",
      "Number of iterations = 11 tolerance = 0.006099634995\n",
      "Number of iterations = 12 tolerance = 0.00298883633737\n",
      "Number of iterations = 13 tolerance = 0.00127482075344\n",
      "Number of iterations = 14 tolerance = 0.000536690929679\n"
     ]
    }
   ],
   "source": [
    "pfn.run_one_step()"
   ]
  },
  {
   "cell_type": "code",
   "execution_count": 11,
   "metadata": {},
   "outputs": [
    {
     "name": "stdout",
     "output_type": "stream",
     "text": [
      "Using matplotlib backend: Qt5Agg\n",
      "Populating the interactive namespace from numpy and matplotlib\n"
     ]
    }
   ],
   "source": [
    "%pylab"
   ]
  },
  {
   "cell_type": "code",
   "execution_count": 12,
   "metadata": {},
   "outputs": [],
   "source": [
    "figure()\n",
    "imshow_node_grid(mg, h)"
   ]
  },
  {
   "cell_type": "code",
   "execution_count": 50,
   "metadata": {},
   "outputs": [],
   "source": [
    "mc = MeltCreep(mg, dt=100000.)"
   ]
  },
  {
   "cell_type": "code",
   "execution_count": 59,
   "metadata": {},
   "outputs": [
    {
     "name": "stdout",
     "output_type": "stream",
     "text": [
      "Number of iterations = 1 tolerance = 4.16270360809e-06\n"
     ]
    }
   ],
   "source": [
    "figure()\n",
    "pfn.run_one_step()\n",
    "mc.run_one_step()\n",
    "imshow_node_grid(mg, h)"
   ]
  },
  {
   "cell_type": "code",
   "execution_count": 60,
   "metadata": {},
   "outputs": [
    {
     "data": {
      "text/plain": [
       "0.50219688715632504"
      ]
     },
     "execution_count": 60,
     "metadata": {},
     "output_type": "execute_result"
    }
   ],
   "source": [
    "mean(d_h)#doesn't seem to be updating"
   ]
  },
  {
   "cell_type": "code",
   "execution_count": 47,
   "metadata": {},
   "outputs": [
    {
     "data": {
      "text/plain": [
       "array([ 0.,  0.,  0., ...,  0.,  0.,  0.])"
      ]
     },
     "execution_count": 47,
     "metadata": {},
     "output_type": "execute_result"
    }
   ],
   "source": [
    "Q"
   ]
  },
  {
   "cell_type": "code",
   "execution_count": null,
   "metadata": {
    "collapsed": true
   },
   "outputs": [],
   "source": []
  }
 ],
 "metadata": {
  "kernelspec": {
   "display_name": "Python 2",
   "language": "python",
   "name": "python2"
  },
  "language_info": {
   "codemirror_mode": {
    "name": "ipython",
    "version": 2
   },
   "file_extension": ".py",
   "mimetype": "text/x-python",
   "name": "python",
   "nbconvert_exporter": "python",
   "pygments_lexer": "ipython2",
   "version": "2.7.13"
  }
 },
 "nbformat": 4,
 "nbformat_minor": 2
}
