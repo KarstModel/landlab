{
 "cells": [
  {
   "cell_type": "code",
   "execution_count": 1,
   "metadata": {
    "collapsed": false
   },
   "outputs": [
    {
     "name": "stdout",
     "output_type": "stream",
     "text": [
      "Populating the interactive namespace from numpy and matplotlib\n"
     ]
    }
   ],
   "source": [
    "import numpy as np\n",
    "from landlab import RasterModelGrid\n",
    "from landlab.plot.imshow import imshow_node_grid\n",
    "from scipy.optimize import fsolve, root\n",
    "from scipy.sparse.linalg import spsolve\n",
    "from scipy.sparse import csr_matrix\n",
    "%pylab inline"
   ]
  },
  {
   "cell_type": "code",
   "execution_count": 5,
   "metadata": {
    "collapsed": false
   },
   "outputs": [
    {
     "name": "stdout",
     "output_type": "stream",
     "text": [
      "Number of links =  29750\n",
      "Number of nodes =  15000\n",
      "Number of active links =  29254\n",
      "Number of core nodes =  14504\n"
     ]
    }
   ],
   "source": [
    "#Set up model\n",
    "mg = RasterModelGrid((100,150),100)\n",
    "h = mg.add_zeros('node', 'hydraulic__head', noclobber=False)#,h, units='m',noclobber=False)\n",
    "h = np.random.rand(mg.number_of_nodes)\n",
    "Q = mg.add_zeros('link', 'Q',noclobber=False)\n",
    "net_node_flux = mg.add_ones('node', 'net_node_flux', noclobber=False)\n",
    "#set boundary node head\n",
    "h[mg.nodes_at_left_edge] = 10.\n",
    "h[mg.nodes_at_right_edge] = 0.\n",
    "h[mg.nodes_at_top_edge] = 0.\n",
    "h[mg.nodes_at_bottom_edge] = 0.\n",
    "#mg.set_closed_boundaries_at_grid_edges(False,True,False,True)\n",
    "Q[mg.active_links] = 1.\n",
    "n_core = mg.number_of_core_nodes\n",
    "links = mg.links_at_node\n",
    "print \"Number of links = \", mg.number_of_links\n",
    "print \"Number of nodes = \", mg.number_of_nodes\n",
    "print \"Number of active links = \", mg.number_of_active_links\n",
    "print \"Number of core nodes = \", mg.number_of_core_nodes"
   ]
  },
  {
   "cell_type": "code",
   "execution_count": 6,
   "metadata": {
    "collapsed": false
   },
   "outputs": [
    {
     "name": "stdout",
     "output_type": "stream",
     "text": [
      "Number of steps = 1 tolerance = 0.936794542785\n",
      "Number of steps = 2 tolerance = 0.825759664841\n",
      "Number of steps = 3 tolerance = 0.673275737816\n",
      "Number of steps = 4 tolerance = 0.446744119625\n",
      "Number of steps = 5 tolerance = 0.25658240247\n",
      "Number of steps = 6 tolerance = 0.146743619413\n",
      "Number of steps = 7 tolerance = 0.0819131859178\n",
      "Number of steps = 8 tolerance = 0.044426269671\n",
      "Number of steps = 9 tolerance = 0.0213831683848\n",
      "Number of steps = 10 tolerance = 0.00881993752615\n",
      "Number of steps = 11 tolerance = 0.00329532607803\n",
      "Number of steps = 12 tolerance = 0.00125044599502\n",
      "Number of steps = 13 tolerance = 0.000449046385261\n"
     ]
    }
   ],
   "source": [
    "#Calculate flow in network\n",
    "max_tol = 0.001\n",
    "tol = 1.\n",
    "nstep = 1\n",
    "while tol>max_tol:\n",
    "    a=2.\n",
    "    r=1.\n",
    "    Q_ij = Q[links][mg.core_nodes]*mg.active_link_dirs_at_node[mg.core_nodes]\n",
    "    F = Q_ij.sum(axis=1)*(1.-1./a)\n",
    "    A_ij = zeros([n_core, n_core])\n",
    "    for i, this_node in enumerate(mg.core_nodes):\n",
    "        #calculate diagonal term in A matrix\n",
    "        node_Qs = Q_ij[i]\n",
    "        A_ii = 0.\n",
    "        for link_Q in node_Qs:\n",
    "            if link_Q != 0:\n",
    "                A_ii += 1./(a*r*np.fabs(link_Q)**(a-1.))\n",
    "        A_ij[i][i] = A_ii\n",
    "        #loop through node links to calculate off-diagonal terms in A\n",
    "        for this_link in links[this_node]:\n",
    "            if this_link >= 0:#Ignore -1 cases, which indicate no link\n",
    "                neighbor_node = mg.node_at_link_head[this_link]\n",
    "                #Check whether we have the neighbor node\n",
    "                if neighbor_node == this_node:\n",
    "                    #neighbor is at tail, not head\n",
    "                    neighbor_node = mg.node_at_link_tail[this_link]\n",
    "                #Make sure this neighbor is not a boundary node (these are treated differently)\n",
    "                if not mg.node_is_boundary(neighbor_node):\n",
    "                    #Get proper j index for Array (neighbor core node number)\n",
    "                    j = where(mg.core_nodes==neighbor_node)[0][0]\n",
    "                    A_ij[i][j] = -1./(a*r*fabs(Q[this_link])**(a-1))\n",
    "                else:#if boundary add term to F\n",
    "                    if Q[this_link]!=0:#Check whether this is a closed boundary\n",
    "                        F[i] += 1./(a*r*fabs(Q[this_link])**(a-1))*h[neighbor_node]\n",
    "    #Turn A into sparse matrix\n",
    "    A_csr = csr_matrix(A_ij)\n",
    "    ##Solve linear system for new approximation of heads\n",
    "    h[mg.core_nodes] = spsolve(A_csr,F)\n",
    "    dQ= -(1./a)*Q[mg.active_links] - 1./(a*r*np.fabs(Q[mg.active_links])**(a-1)) * (mg.calc_diff_at_link(h)[mg.active_links])\n",
    "    Q[mg.active_links] +=  dQ\n",
    "    tol = sum(np.fabs(dQ))/sum(np.fabs(Q[mg.active_links]))\n",
    "    print \"Number of steps =\", nstep, \"tolerance =\", tol\n",
    "    nstep += 1"
   ]
  },
  {
   "cell_type": "code",
   "execution_count": 7,
   "metadata": {
    "collapsed": false
   },
   "outputs": [
    {
     "data": {
      "image/png": "[encoded data removed]",
      "text/plain": [
       "<matplotlib.figure.Figure at 0x7f2a12ed3550>"
      ]
     },
     "metadata": {},
     "output_type": "display_data"
    }
   ],
   "source": [
    "imshow_node_grid(mg, h)\n",
    "#print \"h=\", h\n",
    "#print \"Q=\",Q\n",
    "#mg.calc_net_flux_at_node(Q, out=net_node_flux)\n",
    "#print \"net node flux = \", net_node_flux[mg.core_nodes]"
   ]
  },
  {
   "cell_type": "code",
   "execution_count": null,
   "metadata": {
    "collapsed": true
   },
   "outputs": [],
   "source": []
  }
 ],
 "metadata": {
  "anaconda-cloud": {},
  "kernelspec": {
   "display_name": "Python 2",
   "language": "python",
   "name": "python2"
  },
  "language_info": {
   "codemirror_mode": {
    "name": "ipython",
    "version": 2
   },
   "file_extension": ".py",
   "mimetype": "text/x-python",
   "name": "python",
   "nbconvert_exporter": "python",
   "pygments_lexer": "ipython2",
   "version": "2.7.13"
  }
 },
 "nbformat": 4,
 "nbformat_minor": 2
}
