{
 "cells": [
  {
   "cell_type": "code",
   "execution_count": 9,
   "metadata": {},
   "outputs": [
    {
     "name": "stdout",
     "output_type": "stream",
     "text": [
      "Populating the interactive namespace from numpy and matplotlib\n"
     ]
    }
   ],
   "source": [
    "%pylab inline\n",
    "from landlab import RasterModelGrid\n",
    "from landlab.plot.imshow import imshow_grid_at_node\n",
    "from landlab.components import PresFlowNetwork, MeltCreep\n",
    "import numpy as np\n",
    "from matplotlib import colors,  cm\n",
    "import matplotlib.animation as animation"
   ]
  },
  {
   "cell_type": "code",
   "execution_count": 7,
   "metadata": {},
   "outputs": [],
   "source": [
    "from PIL import Image\n",
    "from PIL import ImageDraw\n",
    "\n",
    "def plot_links(grid, value_name, autoscale=True, vmin=0., vmax=0., cmap_name='viridis', magnitude= False, lw=5, pixels_per_node=15, x_name='X', y_name='Y', var_name='', use_PIL=True):#, logvalues=False ):\n",
    "    if use_PIL:\n",
    "        pixel_xscaling_factor = pixels_per_node/grid.dx\n",
    "        pixel_yscaling_factor = pixels_per_node/grid.dy\n",
    "        im = Image.new('RGBA', ( int(round(grid.number_of_cell_columns*pixel_xscaling_factor)), int(round(grid.number_of_cell_rows*pixel_yscaling_factor)) ), (255,255,255,255))\n",
    "        draw = ImageDraw.Draw(im)\n",
    "\n",
    "    link_head_x = grid.node_x[grid.node_at_link_head]\n",
    "    link_head_y = grid.node_y[grid.node_at_link_head]\n",
    "    link_tail_x = grid.node_x[grid.node_at_link_tail]\n",
    "    link_tail_y = grid.node_y[grid.node_at_link_tail]       \n",
    "    if magnitude:\n",
    "        values = abs(grid.at_link[value_name])\n",
    "    else:\n",
    "        values = grid.at_link[value_name]\n",
    "    #if logvalues:\n",
    "    #    values = np.log10(abs(grid.at_link[value_name]))\n",
    "    \n",
    "    \n",
    "    #Normalize color values\n",
    "    if autoscale:\n",
    "        cnorm = colors.Normalize()\n",
    "        cnorm.autoscale(values)\n",
    "    else:\n",
    "        cnorm = colors.Normalize(vmin,vmax)\n",
    "    scalarMap = cm.ScalarMappable(norm=cnorm, cmap = get_cmap(cmap_name))\n",
    "    scalarMap.set_array(values)\n",
    "    #set_cmap()\n",
    "    if use_PIL:\n",
    "        for i, value in enumerate(values):\n",
    "            draw.line( ((link_head_x[i]*pixel_xscaling_factor,link_head_y[i]*pixel_yscaling_factor),(link_tail_x[i]*pixel_xscaling_factor,link_tail_y[i]*pixel_yscaling_factor)),fill=scalarMap.to_rgba(value,bytes=True),width=lw) \n",
    "        imshow(np.asarray(im), origin='lower', extent=(0,grid.number_of_cell_columns,0,grid.number_of_cell_rows))\n",
    "    else:\n",
    "        for i, value in enumerate(values):\n",
    "            xs = [link_head_x[i],link_tail_x[i]]\n",
    "            ys = [link_head_y[i],link_tail_y[i]]\n",
    "            img = plot(xs,ys,lw=lw,color=scalarMap.to_rgba(value))    \n",
    "    cb = colorbar(scalarMap)\n",
    "    cb.ax.set_ylabel(var_name)\n",
    "    xlabel(x_name)\n",
    "    ylabel(y_name)\n"
   ]
  },
  {
   "cell_type": "code",
   "execution_count": 173,
   "metadata": {},
   "outputs": [
    {
     "name": "stdout",
     "output_type": "stream",
     "text": [
      "Number of links =  40\n",
      "Number of nodes =  25\n",
      "Number of active links =  18\n",
      "Number of core nodes =  9\n",
      "Number of iterations = 1 tolerance = 0.0802678417438  iteration time= 0.0043714046478271484\n",
      "Number of iterations = 2 tolerance = 0.0217350413699  iteration time= 0.0035524368286132812\n",
      "Number of iterations = 3 tolerance = 0.0067840125132  iteration time= 0.004527568817138672\n",
      "Number of iterations = 4 tolerance = 0.00177366585964  iteration time= 0.003531932830810547\n",
      "Number of iterations = 5 tolerance = 0.00085860512293  iteration time= 0.0036115646362304688\n",
      "Number of iterations = 6 tolerance = 0.000539014305184  iteration time= 0.0032117366790771484\n",
      "Number of iterations = 7 tolerance = 1.17993344057e-05  iteration time= 0.003801584243774414\n",
      "Number of iterations = 8 tolerance = 4.42121719775e-07  iteration time= 0.0031282901763916016\n"
     ]
    }
   ],
   "source": [
    "mg = RasterModelGrid((5,5),500)\n",
    "junc_elev = mg.add_zeros('node', 'junction__elevation')\n",
    "R = mg.add_zeros('node', 'input__discharge')\n",
    "h = mg.add_zeros('node', 'hydraulic__head')\n",
    "C = mg.add_zeros('node', 'concentration')\n",
    "Q = mg.add_zeros('link', 'conduit__discharge')\n",
    "C_inflow = mg.add_zeros('node', 'input__concentration')\n",
    "Cin = mg.add_zeros('link', 'conduit__conc_in')\n",
    "Cout = mg.add_zeros('link', 'conduit__conc_out')\n",
    "#set boundary node head\n",
    "\n",
    "#add input to node 310\n",
    "input_Q=.05\n",
    "input_C = 1.\n",
    "input_idx = 11\n",
    "mg.at_node['input__discharge'][input_idx] = input_Q\n",
    "mg.at_node['input__concentration'][input_idx] = input_C \n",
    "\n",
    "#mg.at_node['input__discharge'][7] = input_Q\n",
    "#mg.at_node['input__concentration'][7] = 0.1 \n",
    "\n",
    "\n",
    "#set heads at edges\n",
    "h[mg.nodes_at_left_edge] = 10.\n",
    "h[mg.nodes_at_right_edge] = 0.\n",
    "h[mg.nodes_at_top_edge] = 0.\n",
    "h[mg.nodes_at_bottom_edge] = 0.\n",
    "\n",
    "C[mg.nodes_at_left_edge] = 0.\n",
    "C[mg.nodes_at_right_edge] = 0.\n",
    "C[mg.nodes_at_top_edge] = 0.\n",
    "C[mg.nodes_at_bottom_edge] = 0.\n",
    "\n",
    "\n",
    "mg.set_closed_boundaries_at_grid_edges(False,True,False,True)\n",
    "Q[mg.active_links] = 0.1*np.random.rand(mg.number_of_active_links)\n",
    "n_core = mg.number_of_core_nodes\n",
    "links = mg.links_at_node\n",
    "print(\"Number of links = \", mg.number_of_links)\n",
    "print(\"Number of nodes = \", mg.number_of_nodes)\n",
    "print(\"Number of active links = \", mg.number_of_active_links)\n",
    "print(\"Number of core nodes = \", mg.number_of_core_nodes)\n",
    "\n",
    "d_h = mg.add_zeros('link','hydraulic__diameter')\n",
    "mg.at_link['hydraulic__diameter'][mg.active_links]= 0.5*np.random.rand(mg.number_of_active_links)+0.1\n",
    "\n",
    "#code added for fsolve algorithm\n",
    "#dhdx = mg.add_zeros('link', 'hydraulic_head_gradient')\n",
    "#net_node_flux = mg.add_ones('node', 'net_node_flux')\n",
    "\n",
    "\n",
    "pfn = PresFlowNetwork(mg)\n",
    "pfn.run_one_step()\n"
   ]
  },
  {
   "cell_type": "code",
   "execution_count": 174,
   "metadata": {},
   "outputs": [
    {
     "data": {
      "image/png": "[encoded data removed]",
      "text/plain": [
       "<Figure size 432x288 with 2 Axes>"
      ]
     },
     "metadata": {
      "needs_background": "light"
     },
     "output_type": "display_data"
    }
   ],
   "source": [
    "figure()\n",
    "imshow_grid_at_node(mg, h)\n"
   ]
  },
  {
   "cell_type": "code",
   "execution_count": 175,
   "metadata": {},
   "outputs": [
    {
     "data": {
      "image/png": "[encoded data removed]",
      "text/plain": [
       "<Figure size 432x288 with 2 Axes>"
      ]
     },
     "metadata": {
      "needs_background": "light"
     },
     "output_type": "display_data"
    }
   ],
   "source": [
    "figure()\n",
    "plot_links(mg, 'conduit__discharge', use_PIL=False)"
   ]
  },
  {
   "cell_type": "code",
   "execution_count": 176,
   "metadata": {},
   "outputs": [],
   "source": [
    "#Get index of nodes sorted by descending head\n",
    "idx = np.argsort(-h)#Sort on negative to get descending order sort\n",
    "\n",
    "for node_idx in idx:\n",
    "    this_node_links = mg.links_at_node[node_idx]\n",
    "    this_node_dirs = mg.active_link_dirs_at_node[node_idx]\n",
    "\n",
    "    #First determine inflow and outflow links\n",
    "    node_Qs = mg.at_link['conduit__discharge'][this_node_links]*this_node_dirs\n",
    "    node_inflow_links = this_node_links[node_Qs>0]\n",
    "    node_outflow_links = this_node_links[node_Qs<0]\n",
    "\n",
    "    #Calculate node concentration from inflows (including boundary inflows)\n",
    "    total_inflow = abs(mg.at_link['conduit__discharge'][node_inflow_links]).sum() + \\\n",
    "                    mg.at_node['input__discharge'][node_idx]\n",
    "\n",
    "    if total_inflow !=0:\n",
    "        conc_mult = np.abs(mg.at_link['conduit__discharge'][node_inflow_links])*mg.at_link['conduit__conc_out'][node_inflow_links]\n",
    "        input_conc_mult = mg.at_node['input__discharge'][node_idx]*mg.at_node['input__concentration'][node_idx]\n",
    "        conc_node = (conc_mult.sum() + input_conc_mult)/total_inflow\n",
    "        C[node_idx] = conc_node\n",
    "    \n",
    "        #set outflow link concentrations\n",
    "        mg.at_link['conduit__conc_in'][node_outflow_links] = conc_node\n",
    "    \n",
    "        #Calculate output link concentrations (for now conservative)\n",
    "        mg.at_link['conduit__conc_out'][node_outflow_links] = mg.at_link['conduit__conc_in'][node_outflow_links]\n",
    "\n",
    "\n"
   ]
  },
  {
   "cell_type": "code",
   "execution_count": 177,
   "metadata": {},
   "outputs": [
    {
     "data": {
      "text/plain": [
       "array([ 0.        ,  0.        ,  0.        ,  0.        ,  0.        ,\n",
       "        0.        ,  0.        ,  0.        ,  0.        ,  0.        ,\n",
       "        0.25664353,  0.25671034,  0.25671034,  0.        ,  0.66957209,\n",
       "        0.26504717,  0.25671034,  0.        ,  0.        ,  0.66957209,\n",
       "        0.26504717,  0.24119911,  0.        ,  0.66957209,  0.0144084 ,\n",
       "        0.0144084 ,  0.        ,  0.        ,  0.0144084 ,  0.0144084 ,\n",
       "        0.0144084 ,  0.        ,  0.        ,  0.        ,  0.        ,\n",
       "        0.        ,  0.        ,  0.        ,  0.        ,  0.        ])"
      ]
     },
     "execution_count": 177,
     "metadata": {},
     "output_type": "execute_result"
    }
   ],
   "source": [
    "mg.at_link['conduit__conc_in']"
   ]
  },
  {
   "cell_type": "code",
   "execution_count": 178,
   "metadata": {},
   "outputs": [
    {
     "data": {
      "image/png": "[encoded data removed]",
      "text/plain": [
       "<Figure size 432x288 with 2 Axes>"
      ]
     },
     "metadata": {
      "needs_background": "light"
     },
     "output_type": "display_data"
    }
   ],
   "source": [
    "plot_links(mg, 'conduit__conc_in', use_PIL=False)"
   ]
  },
  {
   "cell_type": "code",
   "execution_count": 179,
   "metadata": {},
   "outputs": [
    {
     "data": {
      "image/png": "[encoded data removed]",
      "text/plain": [
       "<Figure size 432x288 with 2 Axes>"
      ]
     },
     "metadata": {
      "needs_background": "light"
     },
     "output_type": "display_data"
    }
   ],
   "source": [
    "imshow_grid_at_node(mg, C)"
   ]
  },
  {
   "cell_type": "code",
   "execution_count": 180,
   "metadata": {},
   "outputs": [
    {
     "data": {
      "text/plain": [
       "array([ 0.        ,  0.        ,  0.        ,  0.        ,  0.        ,\n",
       "        0.        ,  0.25664353,  0.25671034,  0.25671034,  0.25671034,\n",
       "        0.        ,  0.66957209,  0.26504717,  0.24119911,  0.24119911,\n",
       "        0.        ,  0.0144084 ,  0.0144084 ,  0.0144084 ,  0.0144084 ,\n",
       "        0.        ,  0.        ,  0.        ,  0.        ,  0.        ])"
      ]
     },
     "execution_count": 180,
     "metadata": {},
     "output_type": "execute_result"
    }
   ],
   "source": [
    "C"
   ]
  },
  {
   "cell_type": "code",
   "execution_count": 181,
   "metadata": {},
   "outputs": [
    {
     "data": {
      "image/png": "[encoded data removed]",
      "text/plain": [
       "<Figure size 432x288 with 2 Axes>"
      ]
     },
     "metadata": {
      "needs_background": "light"
     },
     "output_type": "display_data"
    }
   ],
   "source": [
    "plot_links(mg, 'hydraulic__diameter', use_PIL=False)"
   ]
  },
  {
   "cell_type": "code",
   "execution_count": null,
   "metadata": {},
   "outputs": [],
   "source": []
  }
 ],
 "metadata": {
  "kernelspec": {
   "display_name": "Python 3",
   "language": "python",
   "name": "python3"
  },
  "language_info": {
   "codemirror_mode": {
    "name": "ipython",
    "version": 3
   },
   "file_extension": ".py",
   "mimetype": "text/x-python",
   "name": "python",
   "nbconvert_exporter": "python",
   "pygments_lexer": "ipython3",
   "version": "3.8.1"
  }
 },
 "nbformat": 4,
 "nbformat_minor": 2
}
