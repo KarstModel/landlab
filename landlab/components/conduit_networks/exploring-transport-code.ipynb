{
 "cells": [
  {
   "cell_type": "code",
   "execution_count": 9,
   "metadata": {},
   "outputs": [
    {
     "name": "stdout",
     "output_type": "stream",
     "text": [
      "Populating the interactive namespace from numpy and matplotlib\n"
     ]
    }
   ],
   "source": [
    "%pylab inline\n",
    "from landlab import RasterModelGrid\n",
    "from landlab.plot.imshow import imshow_grid_at_node\n",
    "from landlab.components import PresFlowNetwork, MeltCreep\n",
    "import numpy as np\n",
    "from matplotlib import colors,  cm\n",
    "import matplotlib.animation as animation"
   ]
  },
  {
   "cell_type": "code",
   "execution_count": 7,
   "metadata": {},
   "outputs": [],
   "source": [
    "from PIL import Image\n",
    "from PIL import ImageDraw\n",
    "\n",
    "def plot_links(grid, value_name, autoscale=True, vmin=0., vmax=0., cmap_name='viridis', magnitude= False, lw=5, pixels_per_node=15, x_name='X', y_name='Y', var_name='', use_PIL=True):#, logvalues=False ):\n",
    "    if use_PIL:\n",
    "        pixel_xscaling_factor = pixels_per_node/grid.dx\n",
    "        pixel_yscaling_factor = pixels_per_node/grid.dy\n",
    "        im = Image.new('RGBA', ( int(round(grid.number_of_cell_columns*pixel_xscaling_factor)), int(round(grid.number_of_cell_rows*pixel_yscaling_factor)) ), (255,255,255,255))\n",
    "        draw = ImageDraw.Draw(im)\n",
    "\n",
    "    link_head_x = grid.node_x[grid.node_at_link_head]\n",
    "    link_head_y = grid.node_y[grid.node_at_link_head]\n",
    "    link_tail_x = grid.node_x[grid.node_at_link_tail]\n",
    "    link_tail_y = grid.node_y[grid.node_at_link_tail]       \n",
    "    if magnitude:\n",
    "        values = abs(grid.at_link[value_name])\n",
    "    else:\n",
    "        values = grid.at_link[value_name]\n",
    "    #if logvalues:\n",
    "    #    values = np.log10(abs(grid.at_link[value_name]))\n",
    "    \n",
    "    \n",
    "    #Normalize color values\n",
    "    if autoscale:\n",
    "        cnorm = colors.Normalize()\n",
    "        cnorm.autoscale(values)\n",
    "    else:\n",
    "        cnorm = colors.Normalize(vmin,vmax)\n",
    "    scalarMap = cm.ScalarMappable(norm=cnorm, cmap = get_cmap(cmap_name))\n",
    "    scalarMap.set_array(values)\n",
    "    #set_cmap()\n",
    "    if use_PIL:\n",
    "        for i, value in enumerate(values):\n",
    "            draw.line( ((link_head_x[i]*pixel_xscaling_factor,link_head_y[i]*pixel_yscaling_factor),(link_tail_x[i]*pixel_xscaling_factor,link_tail_y[i]*pixel_yscaling_factor)),fill=scalarMap.to_rgba(value,bytes=True),width=lw) \n",
    "        imshow(np.asarray(im), origin='lower', extent=(0,grid.number_of_cell_columns,0,grid.number_of_cell_rows))\n",
    "    else:\n",
    "        for i, value in enumerate(values):\n",
    "            xs = [link_head_x[i],link_tail_x[i]]\n",
    "            ys = [link_head_y[i],link_tail_y[i]]\n",
    "            img = plot(xs,ys,lw=lw,color=scalarMap.to_rgba(value))    \n",
    "    cb = colorbar(scalarMap)\n",
    "    cb.ax.set_ylabel(var_name)\n",
    "    xlabel(x_name)\n",
    "    ylabel(y_name)\n"
   ]
  },
  {
   "cell_type": "code",
   "execution_count": 98,
   "metadata": {},
   "outputs": [
    {
     "name": "stdout",
     "output_type": "stream",
     "text": [
      "Number of links =  40\n",
      "Number of nodes =  25\n",
      "Number of active links =  15\n",
      "Number of core nodes =  9\n",
      "Number of iterations = 1 tolerance = 0.0308547947725  iteration time= 0.004801034927368164\n",
      "Number of iterations = 2 tolerance = 0.0300769054872  iteration time= 0.0043125152587890625\n",
      "Number of iterations = 3 tolerance = 0.0160035298737  iteration time= 0.003474712371826172\n",
      "Number of iterations = 4 tolerance = 0.0102782155637  iteration time= 0.0034830570220947266\n",
      "Number of iterations = 5 tolerance = 0.00417802853915  iteration time= 0.003648996353149414\n",
      "Number of iterations = 6 tolerance = 0.0013019851741  iteration time= 0.0034232139587402344\n",
      "Number of iterations = 7 tolerance = 0.000715945007345  iteration time= 0.0029289722442626953\n",
      "Number of iterations = 8 tolerance = 0.000284189060027  iteration time= 0.0038404464721679688\n",
      "Number of iterations = 9 tolerance = 9.65126668617e-05  iteration time= 0.003881216049194336\n",
      "Number of iterations = 10 tolerance = 3.39023913606e-05  iteration time= 0.003634929656982422\n",
      "Number of iterations = 11 tolerance = 1.4701116938e-05  iteration time= 0.004723310470581055\n",
      "Number of iterations = 12 tolerance = 4.89631458525e-06  iteration time= 0.003491640090942383\n"
     ]
    }
   ],
   "source": [
    "mg = RasterModelGrid((5,5),500)\n",
    "junc_elev = mg.add_zeros('node', 'junction__elevation')\n",
    "R = mg.add_zeros('node', 'input__discharge')\n",
    "h = mg.add_zeros('node', 'hydraulic__head')\n",
    "Q = mg.add_zeros('link', 'conduit__discharge')\n",
    "C_inflow = mg.add_zeros('node', 'input__concentration')\n",
    "Cin = mg.add_zeros('link', 'conduit__conc_in')\n",
    "Cout = mg.add_zeros('link', 'conduit__conc_out')\n",
    "#set boundary node head\n",
    "\n",
    "#add input to node 310\n",
    "input_Q=.01\n",
    "input_C = 1.\n",
    "input_idx = 11\n",
    "mg.at_node['input__discharge'][input_idx] = input_Q\n",
    "mg.at_node['input__concentration'][input_idx] = input_C \n",
    "\n",
    "mg.at_node['input__discharge'][7] = 0.01\n",
    "mg.at_node['input__concentration'][7] = 0.1 \n",
    "\n",
    "\n",
    "#set heads at edges\n",
    "h[mg.nodes_at_left_edge] = 50.\n",
    "h[mg.nodes_at_right_edge] = 0.\n",
    "h[mg.nodes_at_top_edge] = 0.\n",
    "h[mg.nodes_at_bottom_edge] = 0.\n",
    "mg.set_closed_boundaries_at_grid_edges(False,True,True,True)\n",
    "Q[mg.active_links] = 0.1*np.random.rand(mg.number_of_active_links)\n",
    "n_core = mg.number_of_core_nodes\n",
    "links = mg.links_at_node\n",
    "print(\"Number of links = \", mg.number_of_links)\n",
    "print(\"Number of nodes = \", mg.number_of_nodes)\n",
    "print(\"Number of active links = \", mg.number_of_active_links)\n",
    "print(\"Number of core nodes = \", mg.number_of_core_nodes)\n",
    "\n",
    "d_h = mg.add_zeros('link','hydraulic__diameter')\n",
    "mg.at_link['hydraulic__diameter'][mg.active_links]= 0.5*np.random.rand(mg.number_of_active_links)\n",
    "\n",
    "\n",
    "\n",
    "\n",
    "#code added for fsolve algorithm\n",
    "#dhdx = mg.add_zeros('link', 'hydraulic_head_gradient')\n",
    "#net_node_flux = mg.add_ones('node', 'net_node_flux')\n",
    "\n",
    "\n",
    "pfn = PresFlowNetwork(mg)\n",
    "pfn.run_one_step()\n"
   ]
  },
  {
   "cell_type": "code",
   "execution_count": 71,
   "metadata": {},
   "outputs": [
    {
     "data": {
      "image/png": "[encoded data removed]",
      "text/plain": [
       "<Figure size 432x288 with 2 Axes>"
      ]
     },
     "metadata": {
      "needs_background": "light"
     },
     "output_type": "display_data"
    }
   ],
   "source": [
    "figure()\n",
    "imshow_grid_at_node(mg, h)\n"
   ]
  },
  {
   "cell_type": "code",
   "execution_count": 72,
   "metadata": {},
   "outputs": [
    {
     "data": {
      "image/png": "[encoded data removed]",
      "text/plain": [
       "<Figure size 432x288 with 2 Axes>"
      ]
     },
     "metadata": {
      "needs_background": "light"
     },
     "output_type": "display_data"
    }
   ],
   "source": [
    "figure()\n",
    "plot_links(mg, 'conduit__discharge', use_PIL=False)"
   ]
  },
  {
   "cell_type": "code",
   "execution_count": 62,
   "metadata": {},
   "outputs": [
    {
     "data": {
      "text/plain": [
       "array([[10, 14,  9,  5],\n",
       "       [11, 15, 10,  6],\n",
       "       [12, 16, 11,  7],\n",
       "       [19, 23, 18, 14],\n",
       "       [20, 24, 19, 15],\n",
       "       [21, 25, 20, 16],\n",
       "       [28, 32, 27, 23],\n",
       "       [29, 33, 28, 24],\n",
       "       [30, 34, 29, 25]])"
      ]
     },
     "execution_count": 62,
     "metadata": {},
     "output_type": "execute_result"
    }
   ],
   "source": [
    "mg.links_at_node[mg.core_nodes]"
   ]
  },
  {
   "cell_type": "code",
   "execution_count": 63,
   "metadata": {},
   "outputs": [],
   "source": [
    "idx = np.argsort(-h[mg.core_nodes])#Sort on negative to get descending order sort"
   ]
  },
  {
   "cell_type": "code",
   "execution_count": 64,
   "metadata": {},
   "outputs": [
    {
     "data": {
      "text/plain": [
       "array([  2.17681586e+00,   2.17681534e+00,   1.35221876e+00,\n",
       "         1.25306115e+00,   1.44885181e-01,   1.30093264e-01,\n",
       "         2.14658970e-02,   3.90161951e-03,   7.77036227e-04])"
      ]
     },
     "execution_count": 64,
     "metadata": {},
     "output_type": "execute_result"
    }
   ],
   "source": [
    "h[mg.core_nodes][idx]"
   ]
  },
  {
   "cell_type": "code",
   "execution_count": 65,
   "metadata": {},
   "outputs": [
    {
     "name": "stdout",
     "output_type": "stream",
     "text": [
      "[19 23 18 14]\n",
      "[-1 -1  0  1]\n"
     ]
    }
   ],
   "source": [
    "this_node_links = mg.links_at_node[mg.core_nodes][idx][0]\n",
    "print(this_node_links)\n",
    "this_node_dirs = mg.active_link_dirs_at_node[mg.core_nodes][idx][0]\n",
    "print(this_node_dirs)"
   ]
  },
  {
   "cell_type": "code",
   "execution_count": 67,
   "metadata": {},
   "outputs": [
    {
     "data": {
      "text/plain": [
       "array([ -2.80056368e-03,  -4.96500089e-05,   0.00000000e+00,\n",
       "        -7.14978631e-03])"
      ]
     },
     "execution_count": 67,
     "metadata": {},
     "output_type": "execute_result"
    }
   ],
   "source": [
    "mg.at_link['conduit__discharge'][this_node_links]*this_node_dirs"
   ]
  },
  {
   "cell_type": "code",
   "execution_count": 85,
   "metadata": {},
   "outputs": [
    {
     "name": "stdout",
     "output_type": "stream",
     "text": [
      "[19 23 14]\n",
      "[]\n"
     ]
    }
   ],
   "source": [
    "#First determine inflow and outflow links\n",
    "node_Qs = mg.at_link['conduit__discharge'][this_node_links]*this_node_dirs\n",
    "node_inflow_links = this_node_links[node_Qs>0]\n",
    "node_outflow_links = this_node_links[node_Qs<0]\n",
    "print(node_outflow_links)\n",
    "print(node_inflow_links)\n",
    "\n",
    "#Calculate node concentration from inflows (including boundary inflows)\n",
    "total_inflow = mg.at_link['conduit__discharge'][node_inflow_links].sum() + \\\n",
    "                mg.at_node['input__discharge'][mg.core_nodes[idx[0]]]\n",
    "\n",
    "conc_mult = mg.at_link['conduit__discharge'][node_inflow_links]*mg.at_link['conduit__conc_out'][node_inflow_links]\n",
    "input_conc_mult = mg.at_node['input__discharge'][mg.core_nodes[idx[0]]]*mg.at_node['input__concentration'][mg.core_nodes[idx[0]]]\n",
    "conc_node = (conc_mult.sum() + input_conc_mult)/total_inflow\n",
    "\n",
    "#set outflow link concentrations\n",
    "mg.at_link['conduit__conc_in'][node_outflow_links] = conc_node\n",
    "\n",
    "#Calculate output link concentrations (for now conservative)\n",
    "mg.at_link['conduit__conc_out'][node_outflow_links] = mg.at_link['conduit__conc_in'][node_outflow_links]\n",
    "\n",
    "\n"
   ]
  },
  {
   "cell_type": "code",
   "execution_count": 99,
   "metadata": {},
   "outputs": [],
   "source": [
    "#Get index of nodes sorted by descending head\n",
    "idx = np.argsort(-h[mg.core_nodes])#Sort on negative to get descending order sort\n",
    "\n",
    "for node_idx in idx:\n",
    "    this_node_links = mg.links_at_node[mg.core_nodes][node_idx]\n",
    "    this_node_dirs = mg.active_link_dirs_at_node[mg.core_nodes][node_idx]\n",
    "\n",
    "    #First determine inflow and outflow links\n",
    "    node_Qs = mg.at_link['conduit__discharge'][this_node_links]*this_node_dirs\n",
    "    node_inflow_links = this_node_links[node_Qs>0]\n",
    "    node_outflow_links = this_node_links[node_Qs<0]\n",
    "\n",
    "    #Calculate node concentration from inflows (including boundary inflows)\n",
    "    total_inflow = mg.at_link['conduit__discharge'][node_inflow_links].sum() + \\\n",
    "                    mg.at_node['input__discharge'][mg.core_nodes[node_idx]]\n",
    "\n",
    "    conc_mult = mg.at_link['conduit__discharge'][node_inflow_links]*mg.at_link['conduit__conc_out'][node_inflow_links]\n",
    "    input_conc_mult = mg.at_node['input__discharge'][mg.core_nodes[node_idx]]*mg.at_node['input__concentration'][mg.core_nodes[node_idx]]\n",
    "    conc_node = (conc_mult.sum() + input_conc_mult)/total_inflow\n",
    "\n",
    "    #set outflow link concentrations\n",
    "    mg.at_link['conduit__conc_in'][node_outflow_links] = conc_node\n",
    "\n",
    "    #Calculate output link concentrations (for now conservative)\n",
    "    mg.at_link['conduit__conc_out'][node_outflow_links] = mg.at_link['conduit__conc_in'][node_outflow_links]\n",
    "\n",
    "\n"
   ]
  },
  {
   "cell_type": "code",
   "execution_count": 100,
   "metadata": {},
   "outputs": [
    {
     "data": {
      "text/plain": [
       "array([ 0.        ,  0.        ,  0.        ,  0.        ,  0.        ,\n",
       "        0.        ,  0.        ,  0.        ,  0.        ,  0.        ,\n",
       "        1.        ,  0.20819647,  0.20819647,  0.        ,  1.        ,\n",
       "        0.20819647,  0.20819647,  0.        ,  0.        ,  1.        ,\n",
       "        0.76914186,  0.23347061,  0.        ,  1.        ,  0.76914186,\n",
       "        0.23347061,  0.        ,  0.        ,  1.        ,  0.77618378,\n",
       "        0.77572277,  0.        ,  0.        ,  0.        ,  0.        ,\n",
       "        0.        ,  0.        ,  0.        ,  0.        ,  0.        ])"
      ]
     },
     "execution_count": 100,
     "metadata": {},
     "output_type": "execute_result"
    }
   ],
   "source": [
    "mg.at_link['conduit__conc_in']"
   ]
  },
  {
   "cell_type": "code",
   "execution_count": 101,
   "metadata": {},
   "outputs": [
    {
     "data": {
      "image/png": "[encoded data removed]",
      "text/plain": [
       "<Figure size 432x288 with 2 Axes>"
      ]
     },
     "metadata": {
      "needs_background": "light"
     },
     "output_type": "display_data"
    }
   ],
   "source": [
    "plot_links(mg, 'conduit__conc_in', use_PIL=False)"
   ]
  },
  {
   "cell_type": "code",
   "execution_count": 102,
   "metadata": {},
   "outputs": [
    {
     "data": {
      "image/png": "[encoded data removed]",
      "text/plain": [
       "<Figure size 432x288 with 2 Axes>"
      ]
     },
     "metadata": {
      "needs_background": "light"
     },
     "output_type": "display_data"
    }
   ],
   "source": [
    "plot_links(mg, 'conduit__conc_out', use_PIL=False)"
   ]
  },
  {
   "cell_type": "code",
   "execution_count": null,
   "metadata": {},
   "outputs": [],
   "source": []
  }
 ],
 "metadata": {
  "kernelspec": {
   "display_name": "Python 3",
   "language": "python",
   "name": "python3"
  },
  "language_info": {
   "codemirror_mode": {
    "name": "ipython",
    "version": 3
   },
   "file_extension": ".py",
   "mimetype": "text/x-python",
   "name": "python",
   "nbconvert_exporter": "python",
   "pygments_lexer": "ipython3",
   "version": "3.8.1"
  }
 },
 "nbformat": 4,
 "nbformat_minor": 2
}
